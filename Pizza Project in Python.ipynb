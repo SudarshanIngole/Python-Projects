{
 "cells": [
  {
   "cell_type": "code",
   "execution_count": 2,
   "id": "826584f1",
   "metadata": {},
   "outputs": [
    {
     "name": "stdout",
     "output_type": "stream",
     "text": [
      "Welcome to pizza Deliveries\n",
      "What is the size of pizze do you want ? L/M/SL\n",
      "Do you want to add pepperoni 'Y' or 'N' Y\n",
      "do you want to add extaa cheese 'Y' or 'N'  N\n",
      "Your final bill is: $28.\n"
     ]
    }
   ],
   "source": [
    "print(\"Welcome to pizza Deliveries\")\n",
    "size=input(\"What is the size of pizze do you want ? L/M/S\")\n",
    "add_pepperoni=input('''Do you want to add pepperoni 'Y' or 'N' ''')\n",
    "extra_cheese=input(\"do you want to add extaa cheese 'Y' or 'N'  \")\n",
    "bill = 0\n",
    "if size == \"S\":\n",
    "    bill += 15\n",
    "if size == \"M\":\n",
    "    bill += 20\n",
    "if size == \"L\":\n",
    "    bill += 25\n",
    "\n",
    "if add_pepperoni == \"Y\":\n",
    "    if size == \"S\":\n",
    "        bill += 2\n",
    "        \n",
    "    \n",
    "    else:\n",
    "        bill += 3\n",
    "        \n",
    "    \n",
    "\n",
    "if extra_cheese == \"Y\":\n",
    "    \n",
    "    bill += 1\n",
    "\n",
    "print(f\"Your final bill is: ${bill}.\")\n"
   ]
  },
  {
   "cell_type": "code",
   "execution_count": null,
   "id": "144ed14c",
   "metadata": {},
   "outputs": [],
   "source": []
  }
 ],
 "metadata": {
  "kernelspec": {
   "display_name": "Python 3 (ipykernel)",
   "language": "python",
   "name": "python3"
  },
  "language_info": {
   "codemirror_mode": {
    "name": "ipython",
    "version": 3
   },
   "file_extension": ".py",
   "mimetype": "text/x-python",
   "name": "python",
   "nbconvert_exporter": "python",
   "pygments_lexer": "ipython3",
   "version": "3.11.5"
  }
 },
 "nbformat": 4,
 "nbformat_minor": 5
}
