{
 "cells": [
  {
   "cell_type": "code",
   "execution_count": null,
   "id": "c317fb2f",
   "metadata": {},
   "outputs": [],
   "source": [
    "# Caeser Cipher "
   ]
  },
  {
   "cell_type": "code",
   "execution_count": null,
   "id": "fdf645cb",
   "metadata": {},
   "outputs": [],
   "source": [
    "alphabet = ['a', 'b', 'c', 'd', 'e', 'f', 'g', 'h', 'i', 'j', 'k',\n",
    "            'l', 'm', 'n', 'o', 'p', 'q', 'r', 's', 't', 'u', 'v', 'w', 'x', 'y', 'z',\n",
    "            'a', 'b', 'c', 'd', 'e', 'f', 'g', 'h', 'i', 'j', 'k',\n",
    "            'l', 'm', 'n', 'o', 'p', 'q', 'r', 's', 't', 'u', 'v', 'w', 'x', 'y', 'z']\n",
    "\n",
    "text=input('Typer any test to encrypt')\n",
    "shift =int(input('Type shift number '))\n",
    "\n",
    "def encrypt(text, shift):\n",
    "    cesar_cipher = \"\"\n",
    "    for letter in text :\n",
    "        position = alphabet.index(letter)\n",
    "        new_po = position + shift\n",
    "        new_letter = alphabet[new_po]\n",
    "        cesar_cipher += new_letter\n",
    "    print(f\"the code is {cesar_cipher}\")\n",
    "\n",
    "encrypt(text, shift)\n"
   ]
  }
 ],
 "metadata": {
  "kernelspec": {
   "display_name": "Python 3 (ipykernel)",
   "language": "python",
   "name": "python3"
  },
  "language_info": {
   "codemirror_mode": {
    "name": "ipython",
    "version": 3
   },
   "file_extension": ".py",
   "mimetype": "text/x-python",
   "name": "python",
   "nbconvert_exporter": "python",
   "pygments_lexer": "ipython3",
   "version": "3.11.5"
  }
 },
 "nbformat": 4,
 "nbformat_minor": 5
}
