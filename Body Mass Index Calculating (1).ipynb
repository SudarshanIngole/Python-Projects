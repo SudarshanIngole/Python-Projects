{
 "cells": [
  {
   "cell_type": "code",
   "execution_count": 22,
   "id": "1ad75710",
   "metadata": {},
   "outputs": [
    {
     "name": "stdout",
     "output_type": "stream",
     "text": [
      "Enter Height in meter  1.59\n",
      "Enter Weight in kg  56\n",
      "Body Mass Index is  22.15\n"
     ]
    }
   ],
   "source": [
    "# calculating BMI\n",
    "\n",
    "height=input('Enter Height in meter  ' )\n",
    "weight=input('Enter Weight in kg  ' )\n",
    "\n",
    "new_height=float(height)\n",
    "new_weight=int(weight)\n",
    "\n",
    "BMI=new_weight/new_height**2\n",
    "\n",
    "print('Body Mass Index is ',round(BMI,2))\n"
   ]
  },
  {
   "cell_type": "code",
   "execution_count": 18,
   "id": "4058ea57",
   "metadata": {},
   "outputs": [
    {
     "data": {
      "text/plain": [
       "22.151022507021082"
      ]
     },
     "execution_count": 18,
     "metadata": {},
     "output_type": "execute_result"
    }
   ],
   "source": [
    "56/(1.59**2)"
   ]
  },
  {
   "cell_type": "code",
   "execution_count": null,
   "id": "3d625cd6",
   "metadata": {},
   "outputs": [],
   "source": []
  }
 ],
 "metadata": {
  "kernelspec": {
   "display_name": "Python 3 (ipykernel)",
   "language": "python",
   "name": "python3"
  },
  "language_info": {
   "codemirror_mode": {
    "name": "ipython",
    "version": 3
   },
   "file_extension": ".py",
   "mimetype": "text/x-python",
   "name": "python",
   "nbconvert_exporter": "python",
   "pygments_lexer": "ipython3",
   "version": "3.11.5"
  }
 },
 "nbformat": 4,
 "nbformat_minor": 5
}
