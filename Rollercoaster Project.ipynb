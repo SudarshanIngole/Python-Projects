{
 "cells": [
  {
   "cell_type": "code",
   "execution_count": null,
   "id": "311ba4b9",
   "metadata": {},
   "outputs": [
    {
     "name": "stdout",
     "output_type": "stream",
     "text": [
      "Welcome to the RollerCoaster\n"
     ]
    }
   ],
   "source": [
    "print(\"Welcome to the RollerCoaster\")\n",
    "\n",
    "height=int(input(\"Enter your Height : \"))\n",
    "bill=0\n",
    "\n",
    "if height >=120:\n",
    "    print(\"You can ride a rollercoaster\")\n",
    "    age=int(input('Enter your age'))\n",
    "    wants_photo=input(\"Do you want to take photo ?  'Y', 'N' \")\n",
    "    if age<=12:\n",
    "        bill=5\n",
    "        print('Children ticket is $5')\n",
    "    elif age<=18:\n",
    "        bill=7\n",
    "        print(\"Teenager ticket is  $7\")\n",
    "    else:\n",
    "        bill=12\n",
    "        print('Adults ticket is $12')\n",
    "    \n",
    "    if wants_photo== \"Y\":\n",
    "        bill=bill+3\n",
    "        print(f\"Your total bill is ${bill} \")\n",
    "        #bill=bill+3\n",
    "    \n",
    "else:\n",
    "    print('Sorry, you can not ride..')"
   ]
  },
  {
   "cell_type": "code",
   "execution_count": null,
   "id": "30d28324",
   "metadata": {},
   "outputs": [],
   "source": []
  }
 ],
 "metadata": {
  "kernelspec": {
   "display_name": "Python 3 (ipykernel)",
   "language": "python",
   "name": "python3"
  },
  "language_info": {
   "codemirror_mode": {
    "name": "ipython",
    "version": 3
   },
   "file_extension": ".py",
   "mimetype": "text/x-python",
   "name": "python",
   "nbconvert_exporter": "python",
   "pygments_lexer": "ipython3",
   "version": "3.11.5"
  }
 },
 "nbformat": 4,
 "nbformat_minor": 5
}
